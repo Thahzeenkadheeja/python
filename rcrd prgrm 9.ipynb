{
 "cells": [
  {
   "cell_type": "code",
   "execution_count": 10,
   "id": "47313b1f",
   "metadata": {
    "scrolled": true
   },
   "outputs": [
    {
     "name": "stdout",
     "output_type": "stream",
     "text": [
      "enter length of retangle 1: 10\n",
      "enter breadth of rectangle 1: 5\n",
      "enter length of rectangle 2: 8\n",
      "enter breadth of rectangle 2: 4\n",
      "area of rectangle 1:  50\n",
      "area of rectangle 2:  32\n",
      "perimeter of rectangle 1: 30\n",
      "perimeter of rectangle 2: 24\n",
      "rectangle 1 is grtr \n"
     ]
    }
   ],
   "source": [
    "class rectangle():\n",
    "    def get(self,l,b):\n",
    "        self.l=l\n",
    "        self.b=b\n",
    "    def area(self,l,b):\n",
    "        return l*b\n",
    "    def perimeter(self,l,b):\n",
    "        return 2*(l+b)\n",
    "r1=rectangle()\n",
    "r2=rectangle()\n",
    "l1=int(input(\"enter length of retangle 1: \"))\n",
    "b1=int(input(\"enter breadth of rectangle 1: \"))\n",
    "l2=int(input(\"enter length of rectangle 2: \"))\n",
    "b2=int(input(\"enter breadth of rectangle 2: \"))\n",
    "p=r1.area(l1,b1)\n",
    "q=r2.area(l2,b2)\n",
    "p1=r1.perimeter(l1,b1)\n",
    "p2=r2.perimeter(l2,b2)\n",
    "print(\"area of rectangle 1: \",p)\n",
    "print(\"area of rectangle 2: \",q)\n",
    "print(\"perimeter of rectangle 1:\",p1)\n",
    "print(\"perimeter of rectangle 2:\",p2)\n",
    "if(p>q):\n",
    "    print(\"rectangle 1 is grtr \")\n",
    "elif(p<q):\n",
    "    print(\"rectangle 2 is grtr\")\n",
    "else:\n",
    "    print(\"rectangles are equal\")"
   ]
  },
  {
   "cell_type": "code",
   "execution_count": null,
   "id": "3be95ed0",
   "metadata": {},
   "outputs": [
    {
     "name": "stdout",
     "output_type": "stream",
     "text": [
      "enter name:thehzi\n",
      "enter account number:55675657\n",
      "enter account type:saving\n",
      "enter initial balance: 1000\n",
      "1.deposit  2.withdraw  3.Account info 4.Exit \n",
      " Choose your option:3\n",
      "account holder name: thehzi\n",
      "account number: 55675657\n",
      "account type: saving\n",
      "account balance: 1000\n",
      "1.deposit  2.withdraw  3.Account info 4.Exit \n",
      " Choose your option:1\n",
      "deposit amount:2000\n",
      "initial balance: 1000\n",
      "2000 is deposited\n",
      "current balance: 3000\n",
      "1.deposit  2.withdraw  3.Account info 4.Exit \n",
      " Choose your option:2\n",
      "withdraw amount: 500\n",
      "initial balance: 3000\n"
     ]
    }
   ],
   "source": [
    "class bankaccount:\n",
    "    def __init__(self,a_name,a_no,a_type,a_balance):\n",
    "       self.acc_name=a_name\n",
    "       self.acc_no=a_no\n",
    "       self.acc_type=a_type\n",
    "       self.acc_balance=a_balance\n",
    "    def deposit(self,a_deposit):\n",
    "        print(\"initial balance:\",self.acc_balance)\n",
    "        self.acc_balance+=a_deposit\n",
    "        print(a_deposit,\"is deposited\")\n",
    "        print(\"current balance:\",self.acc_balance)\n",
    "    def withdraw(self):\n",
    "        self.amount=int(input(\"withdraw amount: \"))\n",
    "        print(\"initial balance:\",self.acc_balance)\n",
    "        if self.amount>self.acc_balance:\n",
    "            print(\"you don't have enough balance !! \")\n",
    "            print(\"current balance:\",self.acc_balance)\n",
    "    def acc_info(self):\n",
    "        print(\"account holder name:\",self.acc_name)\n",
    "        print(\"account number:\",self.acc_no)\n",
    "        print(\"account type:\",self.acc_type)\n",
    "        print(\"account balance:\",self.acc_balance)\n",
    "name=input(\"enter name:\")\n",
    "no=int(input(\"enter account number:\"))\n",
    "type=input(\"enter account type:\")\n",
    "bal=int(input(\"enter initial balance: \"))\n",
    "holder=bankaccount(name,no,type,bal)\n",
    "while(True):\n",
    "    ch=int(input(\"1.deposit  2.withdraw  3.Account info 4.Exit \\n Choose your option:\"))\n",
    "    if ch==1:\n",
    "        amount=int(input(\"deposit amount:\"))\n",
    "        holder.deposit(amount)\n",
    "    elif ch==2:\n",
    "        holder.withdraw()\n",
    "    elif ch==3:\n",
    "        holder.acc_info()\n",
    "    else:\n",
    "        print(\"Exiting....\")\n",
    "        break\n",
    "           "
   ]
  },
  {
   "cell_type": "code",
   "execution_count": 44,
   "id": "24691722",
   "metadata": {},
   "outputs": [
    {
     "name": "stdout",
     "output_type": "stream",
     "text": [
      "Enter publisher name:abc\n",
      "Enter book name:story book\n",
      "Enter author name:Abcd\n",
      "Enter rate of book:50\n",
      "Enter no.of pages:100\n",
      "BOOK DETAILS \n",
      " publisher name=  abc\n",
      "Title= story book\n",
      "Author Abcd\n",
      "Rate= 50\n",
      "no.of pages= 100\n"
     ]
    }
   ],
   "source": [
    "class publisher:\n",
    "    def __init__(self,pname):\n",
    "        self.pubname=pname\n",
    "    def display1(self):\n",
    "        print(\"BOOK DETAILS \\n publisher name= \",self.pubname)\n",
    "class book(publisher):\n",
    "    def __init__(self,pname,bname,author):\n",
    "        self.title=bname\n",
    "        self.auth=author\n",
    "        publisher.__init__(self,pname)\n",
    "    def display2(self):\n",
    "        print(\"Title=\",self.title)\n",
    "        print(\"Author\",self.auth)\n",
    "class python(book):\n",
    "    def __init__(self,pname,title,au,price,np):\n",
    "        self.rate=price\n",
    "        self.nop=np\n",
    "        book.__init__(self,pname,title,au)\n",
    "    def display3(self):\n",
    "        print(\"Rate=\",self.rate)\n",
    "        print(\"no.of pages=\",self.nop)\n",
    "p=input(\"Enter publisher name:\")\n",
    "b=input(\"Enter book name:\")\n",
    "a=input(\"Enter author name:\")\n",
    "r=int(input(\"Enter rate of book:\"))\n",
    "n=int(input(\"Enter no.of pages:\"))\n",
    "a=python(p,b,a,r,n)\n",
    "a.display1()\n",
    "a.display2()\n",
    "a.display3()\n",
    "    "
   ]
  },
  {
   "cell_type": "code",
   "execution_count": 45,
   "id": "56ae704a",
   "metadata": {},
   "outputs": [
    {
     "name": "stdout",
     "output_type": "stream",
     "text": [
      "enter length of rectangle 1:8\n",
      "enter width of rectangle 1:5\n",
      "enter length of rectangle 2:10\n",
      "enter width of rectangle 2:5\n",
      "Rectangle 2 is greater\n"
     ]
    }
   ],
   "source": [
    "class rectangle:\n",
    "    def __init__(self,l,w):\n",
    "        self.length=l\n",
    "        self.width=w\n",
    "        self.a=l*w\n",
    "    def __gt__(self,other):\n",
    "        if self.a < other.a:\n",
    "            print(\"Rectangle 1 is greater\")\n",
    "        else:\n",
    "            print(\"Rectangle 2 is greater\")\n",
    "l1=int(input(\"enter length of rectangle 1:\"))\n",
    "w1=int(input(\"enter width of rectangle 1:\"))\n",
    "l2=int(input(\"enter length of rectangle 2:\"))\n",
    "w2=int(input(\"enter width of rectangle 2:\"))\n",
    "r1=rectangle(l1,w1)\n",
    "r2=rectangle(l2,w2)\n",
    "r1<r2"
   ]
  },
  {
   "cell_type": "code",
   "execution_count": null,
   "id": "a54b815c",
   "metadata": {},
   "outputs": [],
   "source": [
    "class time:\n",
    "    def __init__(self,hr,mint,sec):\n",
    "        self.__h=hr\n",
    "        self.__m=mint\n",
    "        self.__s=sec\n",
    "    def __add__(self,other):\n",
    "        hh=self.__h+other.__h\n",
    "        ss=self.__s+other.__s\n",
    "        mm=self.__m+other.__m\n",
    "        if(ss>=60):\n",
    "            m=int(ss/60)\n",
    "            ss=ss%60\n",
    "        if(mm>=60):\n",
    "            h=int(mm/60)\n",
    "            mm=mm%60\n",
    "            hh+=h\n",
    "        print(\"added time....\\n hour:\",hh,\"minute:\",mm,\"second:\",ss)\n",
    "h1="
   ]
  },
  {
   "cell_type": "code",
   "execution_count": null,
   "id": "75f085e5",
   "metadata": {},
   "outputs": [],
   "source": []
  }
 ],
 "metadata": {
  "kernelspec": {
   "display_name": "Python 3 (ipykernel)",
   "language": "python",
   "name": "python3"
  },
  "language_info": {
   "codemirror_mode": {
    "name": "ipython",
    "version": 3
   },
   "file_extension": ".py",
   "mimetype": "text/x-python",
   "name": "python",
   "nbconvert_exporter": "python",
   "pygments_lexer": "ipython3",
   "version": "3.11.4"
  }
 },
 "nbformat": 4,
 "nbformat_minor": 5
}
