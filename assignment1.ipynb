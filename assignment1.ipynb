{
 "cells": [
  {
   "cell_type": "code",
   "execution_count": 1,
   "id": "62312976",
   "metadata": {},
   "outputs": [
    {
     "name": "stdout",
     "output_type": "stream",
     "text": [
      "enter the num: 6\n",
      "area of square=  36\n"
     ]
    }
   ],
   "source": [
    "#AREA OF SQUARE\n",
    "num=int(input(\"enter the num: \"))\n",
    "area=num*num\n",
    "print(\"area of square= \",area)"
   ]
  },
  {
   "cell_type": "code",
   "execution_count": 2,
   "id": "d68983f8",
   "metadata": {},
   "outputs": [
    {
     "name": "stdout",
     "output_type": "stream",
     "text": [
      "enter the height: 5\n",
      "enter the base: 5\n",
      "area of right tringle=  12\n"
     ]
    }
   ],
   "source": [
    "#AREA OF RIGHT ANGLE TRIANGLE\n",
    "m=int(input(\"enter the height: \"))\n",
    "n=int(input(\"enter the base: \"))\n",
    "area=m*n/2\n",
    "print(\"area of right tringle= \",int(area))"
   ]
  },
  {
   "cell_type": "code",
   "execution_count": 3,
   "id": "13dbb781",
   "metadata": {},
   "outputs": [
    {
     "name": "stdout",
     "output_type": "stream",
     "text": [
      "enter the value: 8\n",
      "the previous value is 7\n",
      "the next value is 9\n"
     ]
    }
   ],
   "source": [
    "#PREVIOUS AND NEXT VALUE OF A GIVEN NUMBER\n",
    "s=int(input(\"enter the value: \"))\n",
    "print(\"the previous value is\",s-1)\n",
    "print(\"the next value is\",s+1)"
   ]
  },
  {
   "cell_type": "code",
   "execution_count": 4,
   "id": "20eec2a1",
   "metadata": {},
   "outputs": [
    {
     "name": "stdout",
     "output_type": "stream",
     "text": [
      "enter the principle amount500\n",
      "enter no of year4\n",
      "enter rate of intrst8\n",
      "simple intrst=  160.0\n"
     ]
    }
   ],
   "source": [
    "#SIMPLE INTEREST\n",
    "p=int(input(\"enter the principle amount\"))\n",
    "n=int(input(\"enter no of year\"))\n",
    "r=int(input(\"enter rate of intrst\"))\n",
    "si=(p*n*r)/100\n",
    "print(\"simple intrst= \",si)"
   ]
  },
  {
   "cell_type": "code",
   "execution_count": 5,
   "id": "70b1e175",
   "metadata": {},
   "outputs": [
    {
     "name": "stdout",
     "output_type": "stream",
     "text": [
      "enter the num: 5\n",
      "computed value  5 + 55 + 555 = 615\n"
     ]
    }
   ],
   "source": [
    "#ACCEPT INTEGER&TO DISPLAY N+NN+NNN\n",
    "a=int(input(\"enter the num: \"))\n",
    "m=a*10+a\n",
    "p=a*100+m\n",
    "value=a+m+p\n",
    "print(\"computed value \",a,\"+\",m,\"+\",p,\"=\",value)"
   ]
  },
  {
   "cell_type": "code",
   "execution_count": null,
   "id": "aa0a3dff",
   "metadata": {},
   "outputs": [],
   "source": []
  }
 ],
 "metadata": {
  "kernelspec": {
   "display_name": "Python 3 (ipykernel)",
   "language": "python",
   "name": "python3"
  },
  "language_info": {
   "codemirror_mode": {
    "name": "ipython",
    "version": 3
   },
   "file_extension": ".py",
   "mimetype": "text/x-python",
   "name": "python",
   "nbconvert_exporter": "python",
   "pygments_lexer": "ipython3",
   "version": "3.11.4"
  }
 },
 "nbformat": 4,
 "nbformat_minor": 5
}
