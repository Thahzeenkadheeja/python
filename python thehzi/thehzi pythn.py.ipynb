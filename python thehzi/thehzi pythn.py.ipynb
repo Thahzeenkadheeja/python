{
 "cells": [
  {
   "cell_type": "code",
   "execution_count": 8,
   "id": "99f48807",
   "metadata": {},
   "outputs": [
    {
     "name": "stdout",
     "output_type": "stream",
     "text": [
      "enter the num: 6\n",
      "area of square=  36\n"
     ]
    }
   ],
   "source": [
    "num=int(input(\"enter the num: \"))\n",
    "area=num*num\n",
    "print(\"area of square= \",area)"
   ]
  },
  {
   "cell_type": "code",
   "execution_count": 9,
   "id": "4b29c5e8",
   "metadata": {},
   "outputs": [
    {
     "name": "stdout",
     "output_type": "stream",
     "text": [
      "enter the height: 5\n",
      "enter the base: 5\n",
      "area of right tringle=  12\n"
     ]
    }
   ],
   "source": [
    "m=int(input(\"enter the height: \"))\n",
    "n=int(input(\"enter the base: \"))\n",
    "area=m*n/2\n",
    "print(\"area of right tringle= \",int(area))"
   ]
  },
  {
   "cell_type": "code",
   "execution_count": 7,
   "id": "3e18a96d",
   "metadata": {},
   "outputs": [
    {
     "name": "stdout",
     "output_type": "stream",
     "text": [
      "enter the value: 5\n",
      "the previous value is 4\n",
      "the next value is 6\n"
     ]
    }
   ],
   "source": [
    "s=int(input(\"enter the value: \"))\n",
    "print(\"the previous value is\",s-1)\n",
    "print(\"the next value is\",s+1)"
   ]
  },
  {
   "cell_type": "code",
   "execution_count": 10,
   "id": "2b151828",
   "metadata": {},
   "outputs": [
    {
     "name": "stdout",
     "output_type": "stream",
     "text": [
      "enter the principle amount500\n",
      "enter no of year4\n",
      "enter rate of intrst60\n",
      "simple intrst=  1200.0\n"
     ]
    }
   ],
   "source": [
    "p=int(input(\"enter the principle amount\"))\n",
    "n=int(input(\"enter no of year\"))\n",
    "r=int(input(\"enter rate of intrst\"))\n",
    "si=(p*n*r)/100\n",
    "print(\"simple intrst= \",si)"
   ]
  },
  {
   "cell_type": "code",
   "execution_count": 24,
   "id": "c73d7240",
   "metadata": {},
   "outputs": [
    {
     "name": "stdout",
     "output_type": "stream",
     "text": [
      "enter the num: 5\n",
      "computed value  5 + 55 + 555 = 615\n"
     ]
    }
   ],
   "source": [
    "a=int(input(\"enter the num: \"))\n",
    "m=a*10+a\n",
    "p=a*100+m\n",
    "value=a+m+p\n",
    "print(\"computed value \",a,\"+\",m,\"+\",p,\"=\",value)"
   ]
  },
  {
   "cell_type": "code",
   "execution_count": 1,
   "id": "e9415619",
   "metadata": {},
   "outputs": [
    {
     "name": "stdout",
     "output_type": "stream",
     "text": [
      "area of circle\n",
      "enter the radius4\n",
      "the area of circle = 50.26548245743669\n"
     ]
    }
   ],
   "source": [
    "print(\"area of circle\")\n",
    "from math import pi\n",
    "a=float(input(\"enter the radius\"))\n",
    "area=(pi*a*a)\n",
    "print(\"the area of circle =\",area)"
   ]
  },
  {
   "cell_type": "code",
   "execution_count": 2,
   "id": "3b18dce0",
   "metadata": {},
   "outputs": [
    {
     "name": "stdout",
     "output_type": "stream",
     "text": [
      "km to miles\n",
      "enter the km5\n",
      "miles = 3.106855\n"
     ]
    }
   ],
   "source": [
    "print(\"km to miles\")\n",
    "a=float(input(\"enter the km\"))\n",
    "b=(a*0.621371)\n",
    "print(\"miles =\",b)"
   ]
  },
  {
   "cell_type": "code",
   "execution_count": 6,
   "id": "bb2f319c",
   "metadata": {},
   "outputs": [
    {
     "name": "stdout",
     "output_type": "stream",
     "text": [
      "biggest of 2 numbers\n",
      "enter frst number5\n",
      "enter scnd number8\n",
      "the biggest numbr is 8\n"
     ]
    }
   ],
   "source": [
    "print(\"biggest of 2 numbers\")\n",
    "p=int(input(\"enter frst number\"))\n",
    "q=int(input(\"enter scnd number\"))\n",
    "if a<b:\n",
    "    print(\"the biggest numbr is \",p)\n",
    "else:\n",
    "    print(\"the biggest numbr is\",q)"
   ]
  },
  {
   "cell_type": "code",
   "execution_count": 5,
   "id": "71b5f178",
   "metadata": {},
   "outputs": [
    {
     "name": "stdout",
     "output_type": "stream",
     "text": [
      "celsius to frnheit\n",
      "enter degre celsius8\n",
      "the farenheit is 46.4\n"
     ]
    }
   ],
   "source": [
    "print(\"celsius to frnheit\")\n",
    "a=int(input(\"enter degre celsius\"))\n",
    "f=(a*9/5)+32\n",
    "print(\"the farenheit is\",f)"
   ]
  },
  {
   "cell_type": "code",
   "execution_count": 15,
   "id": "25d5cab4",
   "metadata": {},
   "outputs": [
    {
     "name": "stdout",
     "output_type": "stream",
     "text": [
      "enter the string : parents\n",
      "sarentp\n"
     ]
    }
   ],
   "source": [
    "a=input(\"enter the string : \")\n",
    "b=a[0]\n",
    "c=a[6]\n",
    "print(c+a[1:6]+a[0])"
   ]
  },
  {
   "cell_type": "code",
   "execution_count": 13,
   "id": "a17d45a2",
   "metadata": {},
   "outputs": [
    {
     "name": "stdout",
     "output_type": "stream",
     "text": [
      "enter the string : players\n",
      "plye\n"
     ]
    }
   ],
   "source": [
    "a=input(\"enter the string : \")\n",
    "print(a[0:2]+a[3:5])"
   ]
  },
  {
   "cell_type": "code",
   "execution_count": 16,
   "id": "2a2ea96e",
   "metadata": {},
   "outputs": [
    {
     "name": "stdout",
     "output_type": "stream",
     "text": [
      "enter the frst string : camel\n",
      "enter the scnd string : desert\n",
      "demel\n",
      "casert\n"
     ]
    }
   ],
   "source": [
    "a=(input(\"enter the frst string : \"))\n",
    "b=(input(\"enter the scnd string : \"))\n",
    "print(b[0:2]+a[2:])\n",
    "print(a[0:2]+b[2:])"
   ]
  },
  {
   "cell_type": "code",
   "execution_count": 17,
   "id": "1feb16f0",
   "metadata": {},
   "outputs": [
    {
     "name": "stdout",
     "output_type": "stream",
     "text": [
      "I like apples\n"
     ]
    }
   ],
   "source": []
  },
  {
   "cell_type": "code",
   "execution_count": null,
   "id": "518ae976",
   "metadata": {},
   "outputs": [],
   "source": []
  }
 ],
 "metadata": {
  "kernelspec": {
   "display_name": "Python 3 (ipykernel)",
   "language": "python",
   "name": "python3"
  },
  "language_info": {
   "codemirror_mode": {
    "name": "ipython",
    "version": 3
   },
   "file_extension": ".py",
   "mimetype": "text/x-python",
   "name": "python",
   "nbconvert_exporter": "python",
   "pygments_lexer": "ipython3",
   "version": "3.11.4"
  }
 },
 "nbformat": 4,
 "nbformat_minor": 5
}
