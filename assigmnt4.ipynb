{
 "cells": [
  {
   "cell_type": "code",
   "execution_count": 1,
   "id": "73d5e04b",
   "metadata": {},
   "outputs": [
    {
     "name": "stdout",
     "output_type": "stream",
     "text": [
      "enter numbers10,20,30\n",
      "the list is ['10', '20', '30']\n"
     ]
    }
   ],
   "source": [
    "n=input(\"enter numbers\")\n",
    "p=n.split(\",\")\n",
    "print(\"the list is\",p)"
   ]
  },
  {
   "cell_type": "code",
   "execution_count": 2,
   "id": "43c14b2b",
   "metadata": {},
   "outputs": [
    {
     "name": "stdout",
     "output_type": "stream",
     "text": [
      "enter the colors: red,yellow,black\n",
      "the list is ['red', 'yellow', 'black']\n",
      "the first color is red\n",
      "last color is black\n"
     ]
    }
   ],
   "source": [
    "a=input(\"enter the colors: \")\n",
    "b=a.split(\",\")\n",
    "print(\"the list is\",b)\n",
    "print(\"the first color is\",b[0])\n",
    "print(\"last color is\",b[-1])"
   ]
  },
  {
   "cell_type": "code",
   "execution_count": 3,
   "id": "885f95f3",
   "metadata": {},
   "outputs": [
    {
     "name": "stdout",
     "output_type": "stream",
     "text": [
      "enter the file name: python.py\n",
      "the extension is py\n"
     ]
    }
   ],
   "source": [
    "a=input(\"enter the file name: \")\n",
    "b=a.split(\".\")\n",
    "print(\"the extension is\",b[-1])"
   ]
  },
  {
   "cell_type": "code",
   "execution_count": null,
   "id": "438956e0",
   "metadata": {},
   "outputs": [],
   "source": []
  }
 ],
 "metadata": {
  "kernelspec": {
   "display_name": "Python 3 (ipykernel)",
   "language": "python",
   "name": "python3"
  },
  "language_info": {
   "codemirror_mode": {
    "name": "ipython",
    "version": 3
   },
   "file_extension": ".py",
   "mimetype": "text/x-python",
   "name": "python",
   "nbconvert_exporter": "python",
   "pygments_lexer": "ipython3",
   "version": "3.11.4"
  }
 },
 "nbformat": 4,
 "nbformat_minor": 5
}
