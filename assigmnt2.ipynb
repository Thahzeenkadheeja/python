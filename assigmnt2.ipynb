{
 "cells": [
  {
   "cell_type": "code",
   "execution_count": 1,
   "id": "db3b4fcd",
   "metadata": {},
   "outputs": [
    {
     "name": "stdout",
     "output_type": "stream",
     "text": [
      "area of circle\n",
      "enter the radius5\n",
      "the area of circle = 79\n"
     ]
    }
   ],
   "source": [
    "#area of circle\n",
    "print(\"area of circle\")\n",
    "from math import pi\n",
    "a=float(input(\"enter the radius\"))\n",
    "area=round(pi*a*a)\n",
    "print(\"the area of circle =\",area)"
   ]
  },
  {
   "cell_type": "code",
   "execution_count": 2,
   "id": "4f43d06e",
   "metadata": {},
   "outputs": [
    {
     "name": "stdout",
     "output_type": "stream",
     "text": [
      "celsius to frnheit\n",
      "enter degre celsius34\n",
      "the farenheit is 93.2\n"
     ]
    }
   ],
   "source": [
    "#CELSIUS TO FARENHEIT\n",
    "print(\"celsius to frnheit\")\n",
    "a=int(input(\"enter degre celsius\"))\n",
    "f=(a*9/5)+32\n",
    "print(\"the farenheit is\",f)"
   ]
  },
  {
   "cell_type": "code",
   "execution_count": 3,
   "id": "3f39a549",
   "metadata": {},
   "outputs": [
    {
     "name": "stdout",
     "output_type": "stream",
     "text": [
      "km to miles\n",
      "enter the km56\n",
      "miles = 34.796776\n"
     ]
    }
   ],
   "source": [
    "#KM TO MILES\n",
    "print(\"km to miles\")\n",
    "a=float(input(\"enter the km\"))\n",
    "b=(a*0.621371)\n",
    "print(\"miles =\",b)"
   ]
  },
  {
   "cell_type": "code",
   "execution_count": 4,
   "id": "dfa26d93",
   "metadata": {},
   "outputs": [
    {
     "name": "stdout",
     "output_type": "stream",
     "text": [
      "biggest of 2 numbers\n",
      "enter frst number5\n",
      "enter scnd number8\n",
      "the biggest numbr is 8\n"
     ]
    }
   ],
   "source": [
    "#BIGGEST OF TWO NUMBERS\n",
    "print(\"biggest of 2 numbers\")\n",
    "p=int(input(\"enter frst number\"))\n",
    "q=int(input(\"enter scnd number\"))\n",
    "if q<p:\n",
    "    print(\"the biggest numbr is \",p)\n",
    "else:\n",
    "    print(\"the biggest numbr is\",q)"
   ]
  },
  {
   "cell_type": "code",
   "execution_count": null,
   "id": "66ff3f95",
   "metadata": {},
   "outputs": [],
   "source": []
  }
 ],
 "metadata": {
  "kernelspec": {
   "display_name": "Python 3 (ipykernel)",
   "language": "python",
   "name": "python3"
  },
  "language_info": {
   "codemirror_mode": {
    "name": "ipython",
    "version": 3
   },
   "file_extension": ".py",
   "mimetype": "text/x-python",
   "name": "python",
   "nbconvert_exporter": "python",
   "pygments_lexer": "ipython3",
   "version": "3.11.4"
  }
 },
 "nbformat": 4,
 "nbformat_minor": 5
}

