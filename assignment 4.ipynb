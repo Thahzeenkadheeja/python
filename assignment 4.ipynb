{
 "cells": [
  {
   "cell_type": "code",
   "execution_count": 2,
   "id": "12c529f5",
   "metadata": {},
   "outputs": [
    {
     "name": "stdout",
     "output_type": "stream",
     "text": [
      "enter numbers10,20,30\n",
      "the list is ['10', '20', '30']\n"
     ]
    }
   ],
   "source": [
    "n=input(\"enter numbers\")\n",
    "p=n.split(\",\")\n",
    "print(\"the list is\",p)"
   ]
  },
  {
   "cell_type": "code",
   "execution_count": 3,
   "id": "857930d8",
   "metadata": {},
   "outputs": [
    {
     "name": "stdout",
     "output_type": "stream",
     "text": [
      "enter the colors: red,black,yellow,blue\n",
      "the list is ['red', 'black', 'yellow', 'blue']\n",
      "the first color is red\n",
      "last color is blue\n"
     ]
    }
   ],
   "source": [
    "a=input(\"enter the colors: \")\n",
    "b=a.split(\",\")\n",
    "print(\"the list is\",b)\n",
    "print(\"the first color is\",b[0])\n",
    "print(\"last color is\",b[-1])"
   ]
  },
  {
   "cell_type": "code",
   "execution_count": 5,
   "id": "c8e14eef",
   "metadata": {},
   "outputs": [
    {
     "name": "stdout",
     "output_type": "stream",
     "text": [
      "enter the file name: assign.py\n",
      "the extension is assign.py\n"
     ]
    }
   ],
   "source": [
    "a=input(\"enter the file name: \")\n",
    "b=a.split(\",\")\n",
    "print(\"the extension is\", b[-1])"
   ]
  },
  {
   "cell_type": "code",
   "execution_count": null,
   "id": "fbb1e6cd",
   "metadata": {},
   "outputs": [],
   "source": []
  }
 ],
 "metadata": {
  "kernelspec": {
   "display_name": "Python 3 (ipykernel)",
   "language": "python",
   "name": "python3"
  },
  "language_info": {
   "codemirror_mode": {
    "name": "ipython",
    "version": 3
   },
   "file_extension": ".py",
   "mimetype": "text/x-python",
   "name": "python",
   "nbconvert_exporter": "python",
   "pygments_lexer": "ipython3",
   "version": "3.11.4"
  }
 },
 "nbformat": 4,
 "nbformat_minor": 5
}

