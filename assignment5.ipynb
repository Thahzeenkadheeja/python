{
 "cells": [
  {
   "cell_type": "code",
   "execution_count": 5,
   "id": "81882f56",
   "metadata": {},
   "outputs": [
    {
     "name": "stdout",
     "output_type": "stream",
     "text": [
      "enter the number9\n",
      "the number is positive\n"
     ]
    }
   ],
   "source": [
    "a=int(input(\"enter the number\"))\n",
    "if(a>0):\n",
    "  print(\"the number is positive\")\n",
    "elif(a<0):\n",
    "  print(\"the number is negative\")\n",
    "else:\n",
    "  print(\"the no is zero\")"
   ]
  },
  {
   "cell_type": "code",
   "execution_count": 7,
   "id": "0f890be5",
   "metadata": {},
   "outputs": [
    {
     "name": "stdout",
     "output_type": "stream",
     "text": [
      "enter the frst number: 88\n",
      "enter the scnd numbr: 45\n",
      "enter the third numbr: 20\n",
      "the greatest numr is:  88\n"
     ]
    }
   ],
   "source": [
    "a=int(input(\"enter the frst number: \"))\n",
    "b=int(input(\"enter the scnd numbr: \"))\n",
    "c=int(input(\"enter the third numbr: \"))\n",
    "if(a>b):\n",
    "    if(a>c):\n",
    "        print(\"the greatest numr is: \",a)\n",
    "elif(b>c):\n",
    "    print(\"the grtst numbr is\",b)\n",
    "else:\n",
    "    print(\"the grtst numbr is: \",c)"
   ]
  },
  {
   "cell_type": "code",
   "execution_count": 2,
   "id": "424a1925",
   "metadata": {},
   "outputs": [
    {
     "name": "stdout",
     "output_type": "stream",
     "text": [
      "enter the numbr: 10\n",
      "enter scnd nmbr: 30\n",
      "1.addition\n",
      "2.subtraction\n",
      "3.multiplication\n",
      "4.division\n",
      "enter the choice: 3\n",
      "multiple is:  300\n"
     ]
    }
   ],
   "source": [
    "#simple calculator\n",
    "a=int(input(\"enter the numbr: \"))\n",
    "b=int(input(\"enter scnd nmbr: \"))\n",
    "print(\"1.addition\")\n",
    "print(\"2.subtraction\")\n",
    "print(\"3.multiplication\")\n",
    "print(\"4.division\")\n",
    "c=int(input(\"enter the choice: \"))\n",
    "if(c==1):\n",
    "    sum=a+b\n",
    "    print(\"sum is \",sum)\n",
    "elif(c==2):\n",
    "    sub=a-b\n",
    "    print(\"diffrnce is: \",sub)\n",
    "elif(c==3):\n",
    "    mult=a*b\n",
    "    print(\"multiple is: \",mult)\n",
    "elif(c==4):\n",
    "    div=a/b\n",
    "    print(\"division is:\",div)\n",
    "else:\n",
    "    print(\"invalid option\")\n",
    "        "
   ]
  },
  {
   "cell_type": "code",
   "execution_count": null,
   "id": "256e2450",
   "metadata": {},
   "outputs": [],
   "source": []
  },
  {
   "cell_type": "code",
   "execution_count": null,
   "id": "07ae230e",
   "metadata": {},
   "outputs": [],
   "source": []
  }
 ],
 "metadata": {
  "kernelspec": {
   "display_name": "Python 3 (ipykernel)",
   "language": "python",
   "name": "python3"
  },
  "language_info": {
   "codemirror_mode": {
    "name": "ipython",
    "version": 3
   },
   "file_extension": ".py",
   "mimetype": "text/x-python",
   "name": "python",
   "nbconvert_exporter": "python",
   "pygments_lexer": "ipython3",
   "version": "3.11.4"
  }
 },
 "nbformat": 4,
 "nbformat_minor": 5
}
