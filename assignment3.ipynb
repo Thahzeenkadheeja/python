{
 "cells": [
  {
   "cell_type": "code",
   "execution_count": 2,
   "id": "51712743",
   "metadata": {},
   "outputs": [
    {
     "name": "stdout",
     "output_type": "stream",
     "text": [
      "enter the string: flower\n",
      "the resultant string is: rlowef\n"
     ]
    }
   ],
   "source": [
    "#exchange first and last letter\n",
    "a=str(input(\"enter the string: \"))\n",
    "b=a[0]\n",
    "c=a[-1]\n",
    "print(\"the resultant string is:\",c+a[1:-1]+b)"
   ]
  },
  {
   "cell_type": "code",
   "execution_count": 1,
   "id": "be149253",
   "metadata": {},
   "outputs": [
    {
     "name": "stdout",
     "output_type": "stream",
     "text": [
      "enter the string: APPLE\n",
      "the resultant string is:  APLE\n"
     ]
    }
   ],
   "source": [
    "#first and last character interchange\n",
    "s=str(input(\"enter the string: \"))\n",
    "a=s[0:2]\n",
    "b=s[-2:]\n",
    "print(\"the resultant string is: \",a+s[-2:])\n"
   ]
  },
  {
   "cell_type": "code",
   "execution_count": 2,
   "id": "8f8b4ab6",
   "metadata": {},
   "outputs": [
    {
     "name": "stdout",
     "output_type": "stream",
     "text": [
      "enter frst string: WELCOME\n",
      "enter scnd string: DEAR\n",
      "the resulting string:  DELCOME  WEAR\n"
     ]
    }
   ],
   "source": [
    "#swap frst two characters of two string\n",
    "s1=str(input(\"enter frst string: \"))\n",
    "s2=str(input(\"enter scnd string: \"))\n",
    "a=s1[0:2]\n",
    "b=s2[0:2]\n",
    "print(\"the resulting string: \",b+s1[2:],\"\",a+s2[2:])"
   ]
  },
  {
   "cell_type": "code",
   "execution_count": 4,
   "id": "ad69f7ae",
   "metadata": {},
   "outputs": [
    {
     "name": "stdout",
     "output_type": "stream",
     "text": [
      "enter the string: hello\n",
      "new string:  hell$\n"
     ]
    }
   ],
   "source": [
    "#REPLACE OCCURANCE OF FIRST CHARACTER TO S\n",
    "s=str(input(\"enter the string: \"))\n",
    "a=s[0]\n",
    "b=s[1:]\n",
    "st=b.replace(\"o\",\"$\")\n",
    "sn=s[0]+st\n",
    "print(\"new string: \",sn)"
   ]
  },
  {
   "cell_type": "code",
   "execution_count": null,
   "id": "d916a9de",
   "metadata": {},
   "outputs": [],
   "source": []
  }
 ],
 "metadata": {
  "kernelspec": {
   "display_name": "Python 3 (ipykernel)",
   "language": "python",
   "name": "python3"
  },
  "language_info": {
   "codemirror_mode": {
    "name": "ipython",
    "version": 3
   },
   "file_extension": ".py",
   "mimetype": "text/x-python",
   "name": "python",
   "nbconvert_exporter": "python",
   "pygments_lexer": "ipython3",
   "version": "3.11.4"
  }
 },
 "nbformat": 4,
 "nbformat_minor": 5
}
