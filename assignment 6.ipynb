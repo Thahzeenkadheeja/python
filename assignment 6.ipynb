{
 "cells": [
  {
   "cell_type": "code",
   "execution_count": 1,
   "id": "176b8e44",
   "metadata": {},
   "outputs": [
    {
     "name": "stdout",
     "output_type": "stream",
     "text": [
      "enter the numbr: 8\n",
      "factorial is 40320\n"
     ]
    }
   ],
   "source": [
    "n=int(input(\"enter the numbr: \"))\n",
    "fact=1\n",
    "i=1\n",
    "while(i<=n):\n",
    "    fact=fact*i\n",
    "    i=i+1\n",
    "print(\"factorial is\",fact)"
   ]
  },
  {
   "cell_type": "code",
   "execution_count": 2,
   "id": "43057750",
   "metadata": {},
   "outputs": [
    {
     "name": "stdout",
     "output_type": "stream",
     "text": [
      "enter the limit: 10\n",
      "fibonacci series: \n",
      "0\n",
      "1\n",
      "1\n",
      "2\n",
      "3\n",
      "5\n",
      "8\n",
      "13\n",
      "21\n",
      "34\n",
      "55\n",
      "89\n"
     ]
    }
   ],
   "source": [
    "n=int(input(\"enter the limit: \"))\n",
    "a=0\n",
    "b=1\n",
    "print(\"fibonacci series: \")\n",
    "print(a)\n",
    "print(b)\n",
    "for i in range(n):\n",
    "    c=a+b\n",
    "    a=b\n",
    "    b=c\n",
    "    print(c)"
   ]
  },
  {
   "cell_type": "code",
   "execution_count": 3,
   "id": "f01ddfb9",
   "metadata": {},
   "outputs": [
    {
     "name": "stdout",
     "output_type": "stream",
     "text": [
      "enter frst nmbr:500\n",
      "enter scnd nmbr:350\n",
      "GCD of 500 and 350 is 50\n"
     ]
    }
   ],
   "source": [
    "a=int(input(\"enter frst nmbr:\"))\n",
    "b=int(input(\"enter scnd nmbr:\"))\n",
    "if(a>b):\n",
    "    c=b\n",
    "else:\n",
    "    c=a\n",
    "while(c>0):\n",
    "    if(a%c==0)and(b%c==0):\n",
    "        print(\"GCD of\",a,\"and\",b,\"is\",c)\n",
    "        break;\n",
    "    c=c-1"
   ]
  },
  {
   "cell_type": "code",
   "execution_count": 4,
   "id": "549c0385",
   "metadata": {},
   "outputs": [
    {
     "name": "stdout",
     "output_type": "stream",
     "text": [
      "enter a list:123456\n",
      "sum of elmnts in list ['1', '2', '3', '4', '5', '6'] = 21\n"
     ]
    }
   ],
   "source": [
    "l=list(input(\"enter a list:\"))\n",
    "l1=len(l)\n",
    "a=0\n",
    "i=0\n",
    "for i in range(l1):\n",
    "    b=int(l[i])\n",
    "    a=a+b\n",
    "print(\"sum of elmnts in list\",l,\"=\",a)"
   ]
  },
  {
   "cell_type": "code",
   "execution_count": 5,
   "id": "747bb273",
   "metadata": {},
   "outputs": [
    {
     "name": "stdout",
     "output_type": "stream",
     "text": [
      "enter a string:thehzi\n",
      "t is repeated 1 time(s)\n",
      "h is repeated 2 time(s)\n",
      "e is repeated 1 time(s)\n",
      "z is repeated 1 time(s)\n",
      "i is repeated 1 time(s)\n"
     ]
    }
   ],
   "source": [
    "s=input(\"enter a string:\")\n",
    "f={}\n",
    "for i in s:\n",
    "    if i in f:\n",
    "        f[i]=f[i]+1\n",
    "    else:\n",
    "        f[i]=1\n",
    "for keys,value in f.items():\n",
    "    print(keys,\"is repeated\",value,\"time(s)\")"
   ]
  },
  {
   "cell_type": "code",
   "execution_count": 6,
   "id": "399d97f0",
   "metadata": {},
   "outputs": [
    {
     "name": "stdout",
     "output_type": "stream",
     "text": [
      "enter number seprtd by comas:1,2,4,7,8\n",
      "tuple= ('1', '2', '4', '7', '8')\n",
      "avrg value of numbrs in given tuple: 4.4\n"
     ]
    }
   ],
   "source": [
    "t=tuple(input(\"enter number seprtd by comas:\").split(\",\"))\n",
    "print(\"tuple=\",t)\n",
    "l=len(t)\n",
    "a=0\n",
    "for i in range(l):\n",
    "    a=int(t[i])+a\n",
    "    avg=a/l\n",
    "print(\"avrg value of numbrs in given tuple:\",avg)"
   ]
  },
  {
   "cell_type": "code",
   "execution_count": null,
   "id": "533e1b47",
   "metadata": {},
   "outputs": [],
   "source": []
  }
 ],
 "metadata": {
  "kernelspec": {
   "display_name": "Python 3 (ipykernel)",
   "language": "python",
   "name": "python3"
  },
  "language_info": {
   "codemirror_mode": {
    "name": "ipython",
    "version": 3
   },
   "file_extension": ".py",
   "mimetype": "text/x-python",
   "name": "python",
   "nbconvert_exporter": "python",
   "pygments_lexer": "ipython3",
   "version": "3.11.4"
  }
 },
 "nbformat": 4,
 "nbformat_minor": 5
}
