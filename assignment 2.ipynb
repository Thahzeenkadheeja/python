
{
 "cells": [
  {
   "cell_type": "code",
   "execution_count": 1,
   "id": "abf471bc",
   "metadata": {},
   "outputs": [
    {
     "name": "stdout",
     "output_type": "stream",
     "text": [
      "area of circle\n",
      "enter the radius4\n",
      "the area of circle = 50.26548245743669\n"
     ]
    }
   ],
   "source": [
    "#area of circle\n",
    "print(\"area of circle\")\n",
    "from math import pi\n",
    "a=float(input(\"enter the radius\"))\n",
    "area=(pi*a*a)\n",
    "print(\"the area of circle =\",area)"
   ]
  },
  {
   "cell_type": "code",
   "execution_count": 2,
   "id": "1062e4fa",
   "metadata": {},
   "outputs": [
    {
     "name": "stdout",
     "output_type": "stream",
     "text": [
      "celsius to frnheit\n",
      "enter degre celsius8\n",
      "the farenheit is 46.4\n"
     ]
    }
   ],
   "source": [
    "#CELSIUS TO FARENHEIT\n",
    "print(\"celsius to frnheit\")\n",
    "a=int(input(\"enter degre celsius\"))\n",
    "f=(a*9/5)+32\n",
    "print(\"the farenheit is\",f)"
   ]
  },
  {
   "cell_type": "code",
   "execution_count": 3,
   "id": "84e0f356",
   "metadata": {},
   "outputs": [
    {
     "name": "stdout",
     "output_type": "stream",
     "text": [
      "km to miles\n",
      "enter the km10\n",
      "miles = 6.21371\n"
     ]
    }
   ],
   "source": [
    "#KM TO MILES\n",
    "print(\"km to miles\")\n",
    "a=float(input(\"enter the km\"))\n",
    "b=(a*0.621371)\n",
    "print(\"miles =\",b)"
   ]
  },
  {
   "cell_type": "code",
   "execution_count": null,
   "id": "b278fadf",
   "metadata": {},
   "outputs": [],
   "source": [
    "#BIGGEST OF TWO NUMBERS\n"
   ]
  }
 ],
 "metadata": {
  "kernelspec": {
   "display_name": "Python 3 (ipykernel)",
   "language": "python",
   "name": "python3"
  },
  "language_info": {
   "codemirror_mode": {
    "name": "ipython",
    "version": 3
   },
   "file_extension": ".py",
   "mimetype": "text/x-python",
   "name": "python",
   "nbconvert_exporter": "python",
   "pygments_lexer": "ipython3",
   "version": "3.11.4"
  }
 },
 "nbformat": 4,
 "nbformat_minor": 5
}

