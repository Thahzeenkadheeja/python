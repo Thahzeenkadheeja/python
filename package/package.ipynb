{
 "cells": [
  {
   "cell_type": "code",
   "execution_count": null,
   "id": "42a4114b",
   "metadata": {},
   "outputs": [],
   "source": [
    "# CREATE PACKAGES- RECTANGLE,CIRCLE,CUBOID,SPHERE\n",
    "from hello import rectangle\n",
    "from hello import Circle\n",
    "from hello import cuboid\n",
    "from hello import sphere\n",
    "while(1):\n",
    "    print(\"\\n1.Rectangle\\n2.Circle\\n3.Cuboid\\n4.Sphere\\n5.Exit\\n\")\n",
    "    ch=int(input(\"Enter the choice : \"))\n",
    "    if ch==1:\n",
    "        l=int(input(\"\\nEnter the length : \"))\n",
    "        b=int(input(\"Enter the breadth : \"))\n",
    "        rectangle.rectarea(l,b)\n",
    "        rectangle.rectperi(l,b)\n",
    "    elif ch==2:\n",
    "        r=int(input(\"\\nEnter the radius : \"))\n",
    "        Circle.circlearea(r)\n",
    "        Circle.circleperi(r)\n",
    "    elif ch==3:\n",
    "        l=int(input(\"\\nEnter the length : \"))\n",
    "        b=int(input(\"Enter the breadth : \"))\n",
    "        h=int(input(\"Enter the height : \"))\n",
    "        cuboid.cuboidarea(l,b,h)\n",
    "        cuboid.cuboidperi(l,b,h)\n",
    "    elif ch==4:\n",
    "        r=int(input(\"\\nEnter the radius : \"))\n",
    "        sphere.spherearea(r)\n",
    "        sphere.sphereperi(r)\n",
    "    elif ch==5:\n",
    "        print(\"\\n\\tExiting.....\")\n",
    "        break\n",
    "    else:\n",
    "        print(\"\\nInvalid Operation!!!!\")\n"
   ]
  }
 ],
 "metadata": {
  "kernelspec": {
   "display_name": "Python 3 (ipykernel)",
   "language": "python",
   "name": "python3"
  },
  "language_info": {
   "codemirror_mode": {
    "name": "ipython",
    "version": 3
   },
   "file_extension": ".py",
   "mimetype": "text/x-python",
   "name": "python",
   "nbconvert_exporter": "python",
   "pygments_lexer": "ipython3",
   "version": "3.11.4"
  }
 },
 "nbformat": 4,
 "nbformat_minor": 5
}
