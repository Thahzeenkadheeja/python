{
 "cells": [
  {
   "cell_type": "code",
   "execution_count": 1,
   "id": "2b58dfb2",
   "metadata": {},
   "outputs": [
    {
     "name": "stdout",
     "output_type": "stream",
     "text": [
      "Enter the input elements: apple,4,5,77,pineapple,mango,3,8\n",
      "tuple before reversed: ('apple', '4', '5', '77', 'pineapple', 'mango', '3', '8')\n",
      "the reversed input is: ('8', '3', 'mango', 'pineapple', '77', '5', '4', 'apple')\n"
     ]
    }
   ],
   "source": [
    "#REVERSE A TUPLE\n",
    "t=tuple(input(\"Enter the input elements: \").split(\",\"))\n",
    "print(\"tuple before reversed:\",t)\n",
    "s=tuple(reversed(t))\n",
    "print(\"the reversed input is:\",s)"
   ]
  },
  {
   "cell_type": "code",
   "execution_count": 2,
   "id": "f11cc118",
   "metadata": {},
   "outputs": [
    {
     "name": "stdout",
     "output_type": "stream",
     "text": [
      "Enter the elements:a,b,g,l,d,o,r,s,t\n",
      "Tuple: ('a', 'b', 'g', 'l', 'd', 'o', 'r', 's', 't')\n",
      "third element of tuple: g\n",
      "third elmnt from last tuple: r\n"
     ]
    }
   ],
   "source": [
    "#3RD ELEMENT FROM LAST TUPLE\n",
    "t=tuple(input(\"Enter the elements:\").split(\",\"))\n",
    "print(\"Tuple:\",t)\n",
    "i=t[2]\n",
    "print(\"third element of tuple:\",i)\n",
    "j=t[-3]\n",
    "print(\"third elmnt from last tuple:\",j)"
   ]
  },
  {
   "cell_type": "code",
   "execution_count": 3,
   "id": "c62cd457",
   "metadata": {},
   "outputs": [
    {
     "name": "stdout",
     "output_type": "stream",
     "text": [
      "enter the element:10,5,8,40,22,88,45\n",
      "Tuple: ('10', '5', '8', '40', '22', '88', '45')\n",
      "element to be deleted:22\n",
      "('10', '5', '8', '40', '88', '45')\n"
     ]
    }
   ],
   "source": [
    "#REMOVE ITEM FROM A  TUPLE\n",
    "t=tuple(input(\"enter the element:\").split(\",\"))\n",
    "l=list(t)\n",
    "print(\"Tuple:\",t)\n",
    "a=input(\"element to be deleted:\")\n",
    "for x in t:\n",
    "    if a in x:\n",
    "        l.remove(x)\n",
    "        r=tuple(l)\n",
    "print(r)"
   ]
  },
  {
   "cell_type": "code",
   "execution_count": 8,
   "id": "26d76b95",
   "metadata": {},
   "outputs": [
    {
     "name": "stdout",
     "output_type": "stream",
     "text": [
      "enter numbers seperated by commas: 10,20,30\n",
      "tuples: ('10', '20', '30')\n",
      "average value of numbrs in given tuple : 20.0\n"
     ]
    }
   ],
   "source": [
    "t=tuple(input(\"enter numbers seperated by commas: \").split(\",\"))\n",
    "print(\"tuples:\",t)\n",
    "l=len(t)\n",
    "c=0\n",
    "for i in range(l):\n",
    "    c=int(t[i])+c\n",
    "    avg=c/l\n",
    "print(\"average value of numbrs in given tuple :\",avg)"
   ]
  },
  {
   "cell_type": "code",
   "execution_count": null,
   "id": "44bce155",
   "metadata": {},
   "outputs": [],
   "source": []
  },
  {
   "cell_type": "code",
   "execution_count": null,
   "id": "da9c47eb",
   "metadata": {},
   "outputs": [],
   "source": []
  }
 ],
 "metadata": {
  "kernelspec": {
   "display_name": "Python 3 (ipykernel)",
   "language": "python",
   "name": "python3"
  },
  "language_info": {
   "codemirror_mode": {
    "name": "ipython",
    "version": 3
   },
   "file_extension": ".py",
   "mimetype": "text/x-python",
   "name": "python",
   "nbconvert_exporter": "python",
   "pygments_lexer": "ipython3",
   "version": "3.11.4"
  }
 },
 "nbformat": 4,
 "nbformat_minor": 5
}
